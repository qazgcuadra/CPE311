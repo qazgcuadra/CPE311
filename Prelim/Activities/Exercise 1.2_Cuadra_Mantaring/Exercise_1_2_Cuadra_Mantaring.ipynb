{
  "nbformat": 4,
  "nbformat_minor": 0,
  "metadata": {
    "colab": {
      "provenance": []
    },
    "kernelspec": {
      "name": "python3",
      "display_name": "Python 3"
    },
    "language_info": {
      "name": "python"
    }
  },
  "cells": [
    {
      "cell_type": "code",
      "execution_count": null,
      "metadata": {
        "colab": {
          "base_uri": "https://localhost:8080/"
        },
        "id": "V41NoLUTem6m",
        "outputId": "38f542d6-a535-4af7-fee4-d6a3182536c2"
      },
      "outputs": [
        {
          "output_type": "stream",
          "name": "stdout",
          "text": [
            "Welcome to sheep, cabbage, and wolf problem. The goal is to take all 3 to the other \n",
            "shore without the cabbage getting eaten by the sheep or the sheep getting eaten by the wolf.\n",
            "\n",
            "Position:\n",
            "Shore A: Farmer Sheep Cabbage Wolf\n",
            "Shore B: - - - -\n",
            "\n",
            "Position:\n",
            "Shore A: - - Cabbage Wolf\n",
            "Shore B: Farmer Sheep - -\n",
            "\n",
            "Position:\n",
            "Shore A: - - - Wolf\n",
            "Shore B: Farmer Sheep Cabbage -\n",
            "\n",
            "Position:\n",
            "Shore A: Farmer Sheep - Wolf\n",
            "Shore B: - - Cabbage -\n",
            "\n",
            "Position:\n",
            "Shore A: - Sheep - -\n",
            "Shore B: Farmer - Cabbage Wolf\n",
            "\n",
            "Position:\n",
            "Shore A: - - - -\n",
            "Shore B: Farmer Sheep Cabbage Wolf\n",
            "\n",
            "Congratulations! The passengers have successfully been transported.\n"
          ]
        }
      ],
      "source": [
        "import sys\n",
        "\n",
        "class Farmer:\n",
        "    def __str__(self):\n",
        "        return \"Farmer\"\n",
        "\n",
        "class Sheep:\n",
        "    def __str__(self):\n",
        "        return \"Sheep\"\n",
        "\n",
        "class Cabbage:\n",
        "    def __str__(self):\n",
        "        return \"Cabbage\"\n",
        "\n",
        "class Wolf:\n",
        "    def __str__(self):\n",
        "        return \"Wolf\"\n",
        "\n",
        "print(\"Welcome to sheep, cabbage, and wolf problem. The goal is to take all 3 \" +\n",
        "      \"to the other \\nshore without the cabbage getting eaten by the sheep or the \" +\n",
        "      \"sheep getting eaten by the wolf.\")\n",
        "\n",
        "def print_state(farmer_on_shoreB, sheep_on_shoreB, cabbage_on_shoreB, wolf_on_shoreB):\n",
        "    print(\"\\nPosition:\")\n",
        "    print(\"Shore A:\", \"-\" if farmer_on_shoreB else Farmer(),\n",
        "          \"-\" if sheep_on_shoreB else Sheep(),\n",
        "          \"-\" if cabbage_on_shoreB else Cabbage(),\n",
        "          \"-\" if wolf_on_shoreB else Wolf())\n",
        "    print(\"Shore B:\", Farmer() if farmer_on_shoreB else \"-\",\n",
        "          Sheep() if sheep_on_shoreB else \"-\",\n",
        "          Cabbage() if cabbage_on_shoreB else \"-\",\n",
        "          Wolf() if wolf_on_shoreB else \"-\")\n",
        "\n",
        "\n",
        "farmer_on_shoreB = sheep_on_shoreB = cabbage_on_shoreB = wolf_on_shoreB = False\n",
        "\n",
        "# Predefined sequence of moves\n",
        "moves = [('F', 'S'), ('F', 'C'), ('F', 'S'), ('F', 'W'), ('F', 'S'), ()]\n",
        "\n",
        "for move in moves:\n",
        "    print_state(farmer_on_shoreB, sheep_on_shoreB, cabbage_on_shoreB, wolf_on_shoreB)\n",
        "    for choice in move:\n",
        "        if choice == 'S':\n",
        "            sheep_on_shoreB = not sheep_on_shoreB\n",
        "            farmer_on_shoreB = sheep_on_shoreB\n",
        "        elif choice == 'C':\n",
        "            cabbage_on_shoreB = not cabbage_on_shoreB\n",
        "            farmer_on_shoreB = cabbage_on_shoreB\n",
        "        elif choice == 'W':\n",
        "            wolf_on_shoreB = not wolf_on_shoreB\n",
        "            farmer_on_shoreB = wolf_on_shoreB\n",
        "        else:\n",
        "            if (sheep_on_shoreB and cabbage_on_shoreB and not farmer_on_shoreB):\n",
        "                sys.exit(\"Game Over! The sheep ate the cabbage!\")\n",
        "            elif (sheep_on_shoreB and wolf_on_shoreB and not farmer_on_shoreB):\n",
        "                sys.exit(\"Game Over! The wolf ate the sheep!\")\n",
        "\n",
        "print(\"\\nCongratulations! The passengers have successfully been transported.\")"
      ]
    },
    {
      "cell_type": "markdown",
      "source": [
        "link: https://colab.research.google.com/drive/15dBLm1Y2GGECkHacbAWttBOcSYwUE_-Y?usp=sharing"
      ],
      "metadata": {
        "id": "T7YDjMav5Gdp"
      }
    }
  ]
}